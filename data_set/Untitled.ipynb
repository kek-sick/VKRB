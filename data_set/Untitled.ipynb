{
 "cells": [
  {
   "cell_type": "code",
   "execution_count": 1,
   "metadata": {},
   "outputs": [],
   "source": [
    "import numpy as np\n",
    "import pandas as pd\n",
    "import seaborn as sns\n",
    "import matplotlib.pyplot as plt\n",
    "%matplotlib inline "
   ]
  },
  {
   "cell_type": "code",
   "execution_count": 12,
   "metadata": {},
   "outputs": [],
   "source": [
    "data = pd.read_csv('Data_set.csv', sep=\";\", encoding=\"cp1251\")"
   ]
  },
  {
   "cell_type": "code",
   "execution_count": 13,
   "metadata": {},
   "outputs": [
    {
     "data": {
      "text/plain": [
       "(3458, 8)"
      ]
     },
     "execution_count": 13,
     "metadata": {},
     "output_type": "execute_result"
    }
   ],
   "source": [
    "data.shape"
   ]
  },
  {
   "cell_type": "code",
   "execution_count": 14,
   "metadata": {},
   "outputs": [
    {
     "data": {
      "text/plain": [
       "n            int64\n",
       "id           int64\n",
       "mac         object\n",
       "strength     int64\n",
       "ssid        object\n",
       "zone         int64\n",
       "floor        int64\n",
       "datetime    object\n",
       "dtype: object"
      ]
     },
     "execution_count": 14,
     "metadata": {},
     "output_type": "execute_result"
    }
   ],
   "source": [
    "data.dtypes"
   ]
  },
  {
   "cell_type": "code",
   "execution_count": 15,
   "metadata": {},
   "outputs": [
    {
     "data": {
      "text/plain": [
       "n             0\n",
       "id            0\n",
       "mac           0\n",
       "strength      0\n",
       "ssid        239\n",
       "zone          0\n",
       "floor         0\n",
       "datetime      0\n",
       "dtype: int64"
      ]
     },
     "execution_count": 15,
     "metadata": {},
     "output_type": "execute_result"
    }
   ],
   "source": [
    "data.isnull().sum()"
   ]
  },
  {
   "cell_type": "code",
   "execution_count": 16,
   "metadata": {},
   "outputs": [
    {
     "data": {
      "text/plain": [
       "((3458, 8), (3219, 8))"
      ]
     },
     "execution_count": 16,
     "metadata": {},
     "output_type": "execute_result"
    }
   ],
   "source": [
    "data_new_2 = data.dropna(axis=0, how='any')\n",
    "(data.shape, data_new_2.shape)"
   ]
  },
  {
   "cell_type": "code",
   "execution_count": 50,
   "metadata": {},
   "outputs": [
    {
     "data": {
      "text/plain": [
       "(650,)"
      ]
     },
     "execution_count": 50,
     "metadata": {},
     "output_type": "execute_result"
    }
   ],
   "source": [
    "cat_mac = data_new_2[['mac']]\n",
    "cats_mac = cat_mac['mac'].unique()\n",
    "cats_mac.shape"
   ]
  },
  {
   "cell_type": "code",
   "execution_count": 57,
   "metadata": {},
   "outputs": [
    {
     "name": "stdout",
     "output_type": "stream",
     "text": [
      "bmstu_staff\n",
      "bmstu_guest\n",
      "bmstu_lb\n",
      "RT-N14U-903\n",
      "dsplab\n",
      "hw_manage_4660\n",
      "DIR-632-901\n",
      "hw_manage_4740\n",
      "hw_manage_69a0\n",
      "Galaxy S20+2acf\n",
      "OnePlus 5\n",
      "hw_manage_58e0\n",
      "PXI_wifi\n",
      "DIRECT-icPhaser 3020\n",
      "Haiters\n",
      "car01\n",
      "hw_manage_5940\n",
      "hw_manage_5900\n",
      "hw_manage_5960\n",
      "401-au\n",
      "hw_manage_49e0\n",
      "hw_manage_59e0\n",
      "1201\n",
      "linksys\n",
      "linksys_5G\n",
      "AP01\n",
      "rl1nio2\n",
      "hw_manage_6e00\n",
      "HUAWEI P20 lite\n",
      "hw_manage_5920\n",
      "hw_manage_cdc0\n",
      "Kafedra SM10\n",
      "Kafedra SM10 5\n",
      "704_1\n",
      "iPhone\n",
      "DIRECT-4e-HP M203 LaserJet\n",
      "CM10-700 GUEST\n",
      "CM10-700\n",
      "nii_isu_dep1\n",
      "CM10-700 5\n",
      "IU1-603\n",
      "DIRECT-be-HP M203 LaserJet\n",
      "BIO\n",
      "shtucer\n",
      "AndroidAP\n",
      "ZyXEL_KEENETIC_GIGA_FC9B56\n",
      "ClickShare-9716622185\n",
      "DIRECT-14-HP M203 LaserJet\n",
      "AP\n",
      "BIO_5G\n",
      "Redmi 9\n",
      "H?ng qu?n\n",
      "iPhone (Полина)\n",
      "Passpoint Wi-Fi\n",
      "Hotspot 2.0\n",
      "Thinkware_C9\n",
      "RAD+10011241472\n",
      "HUAWEI P30 Pro\n",
      "rk9-metodroom\n",
      "Tenda_42A9B0\n",
      "TP-LINK_8265F0\n",
      "iPhone Комар\n",
      "410_2.4G\n",
      "410_5G\n",
      "Galaxy A7 (2018)339F\n",
      "DIRECT-szSCX-3400Gnusmas\n",
      "NMKN-RoC\n",
      "kotonet\n",
      "mobila5\n",
      "mobila\n",
      "AndroidAP_2822\n",
      "TP-Link_5D02\n",
      "E10-NETWORK\n",
      "DIRECT-1b-HP M130 LaserJet\n",
      "O7568\n",
      "dlink\n",
      "DIRECT-f1-HP M130 LaserJet\n",
      "CDP\n",
      "CAFSTATION\n",
      "UEF WIFI\n",
      "Keenetic-2499\n",
      "Keenetic-2054\n",
      "DIRECT-F5-HP M428dw LJ\n",
      "ASUS_5G\n",
      "ASUS\n",
      "Welcome Home\n",
      "directiya_arctica\n",
      "directiya_arctica_5G\n",
      "DIRECT-vnWorkCentre 3225\n",
      "Sanya\n",
      "DIRECT-d1-HP M280 LaserJet\n",
      "DIRECT-cc-HP M280 LaserJet\n",
      "AndroidAP8617\n",
      "My ASUS\n",
      "CarDV-WIFIa95c\n",
      "realme C15\n",
      "HUAWEI Y6p\n",
      "rk9-metodroom_EXT\n",
      "426_asp\n",
      "W5\n",
      "DIRECT-50-HP M479fdw Color LJ\n",
      "DIRECT-89-HP M203 LaserJet\n",
      "Sequencer\n",
      "USP\n",
      "HP-Print-9a-LaserJet 400\n",
      "NETGEAR71\n",
      "363b\n",
      "iPhone ARS\n",
      "70mai_d06_e2a3\n",
      "wlcmtnndprtmntwrlssntwrk\n",
      "DIRECT-d8-HP M280 LaserJet\n",
      "TP-Link_15B2\n",
      "HUAWEI P smart\n",
      "Redmi\n",
      "Galaxy M211879\n",
      "bmstu-89a\n",
      "ClickShare-9716622189\n",
      "IU3_511u_WiFi\n",
      "IU3_511u_WiFi_5G\n",
      "DOM.RU Wi-Fi\n",
      "Moscow_WiFi_Free\n",
      "YICarCam_fb6e0a\n",
      "YICarCam_f258bd\n",
      "Galaxy M216CF0\n",
      "bmstu_student\n",
      "myl\n",
      "RSLab\n",
      "FEDOROV_NET\n",
      "liton\n",
      "W4\n",
      "mba-411u\n",
      "IU3_Stud_WiFI\n",
      "NetworkDisplay\n",
      "RM3A\n",
      "IU3_Stud_WiFI_5G\n",
      "EBM7\n",
      "DIRECT-BD-HP M479dw Color LJ\n",
      "Xiaomi_182D\n",
      "sec_ics 2\n",
      "TP-Link_3111\n",
      "LordCisco\n",
      "ASUS_NIO_6.1\n",
      "Mercedes\n",
      "ASUS_EBM7\n",
      "Gags PRO\n",
      "TP-Link_3111_5G\n",
      "Portthru\n",
      "iPhone admin\n",
      "EMM7_408\n",
      "moto g(7) power 4080\n",
      "Fiber Optics Lab\n",
      "Nokia 7.2\n",
      "ClickShare-9716622178\n",
      "HP-Print-28-LaserJet 400\n",
      "IU8-5G\n",
      "OnePlus 7 Pro\n",
      "iPhone Marina\n",
      "Elizarti\n",
      "homeAl\n",
      "WS2\n",
      "W2\n",
      "MW\n",
      "DIRECT-94-HP M203 LaserJet\n",
      "DIRECT-f9-HP M203 LaserJet\n",
      "Wt\n",
      "PD19265C58704Name92650C000171\n",
      "??\n",
      "D-2\n",
      "LAVA_R1s1\n",
      "iPhone Виктор\n",
      "WR\n",
      "Z7\n",
      "WZ\n",
      "SiNikit\n",
      "W8\n",
      "Robot\n",
      "335_Y-2\n",
      "335_Y-5\n",
      "Studsovet_5G\n",
      "120E\n",
      "Studsovet\n",
      "DIRECT-46-HP\n",
      "BaumanPress\n",
      "TP-LINK_190\n",
      "Keenetic-0409-5G\n",
      "iPhone (Danil)\n",
      "Your fear\n",
      "MGTS_GPON_C316\n",
      "Tenda_097F70\n",
      "HUAWEI MediaPad M5 lite\n",
      "Mi Phone\n",
      "ZyXEL\n",
      "VTR\n",
      "IU4-net\n",
      "KID-LAB\n",
      "BP-Sec\n",
      "DIRECT-QSTable 3\n",
      "354a\n",
      "DIRECT-65-HP M203 LaserJet\n",
      "e10-a3\n",
      "Tryam\n",
      "Mi A3\n",
      "350_5G\n",
      "350\n",
      "ZTE\n",
      "donaldgrime\n",
      "DIR-300NRU\n",
      "Keenetic-0409\n",
      "492_10\n",
      "Tenda_58BD40\n",
      "Discovery\n",
      "rk5-net\n",
      "PK-5-OKOPOK\n",
      "KillMistR_s\n",
      "DIRECT-19-HP M203 LaserJet\n",
      "DIRECT-DE-HP M479dw Color LJ\n",
      "IU4-net-2\n",
      "ГиперКуб 1\n",
      "ГиперКуб 2\n",
      "wifia04\n",
      "SmartSwitch-472\n",
      "DIRECT-de-HP M203 LaserJet\n",
      "snto\n",
      "DIRECT-05-HP M203 LaserJet\n",
      "Tenda_621E40\n",
      "HP-Print-80-LaserJet Pro MFP\n",
      "DIR-615T-2142\n",
      "Keenetic-2536\n",
      "HP SuperJet\n",
      "HUAWEI BTV\n",
      "ArtMi2002_realme XT\n",
      "DIRECT-92-HP M203 LaserJet\n",
      "PartyMode-COL-9497\n",
      "DIRECT-dd-HP M203 LaserJet\n",
      "HUAWEI P40 lite\n",
      "Terahertz_lab\n",
      "MT2\n",
      "MT2_5G\n",
      "70mai_d02_e2a2\n",
      "Machine35\n",
      "SLSLab\n",
      "iPhone Mot25????\n",
      "???\n",
      "HP-Print-a5-LaserJet 400 MFP\n",
      "Promdesign\n",
      "TP-LINK_6B1C\n",
      "pd230\n",
      "iPhone (Семён)\n",
      "mt2\n",
      "TP-Link_91C4\n",
      "Keenetic-4137\n",
      "E5Room8\n",
      "MT1-113\n",
      "MT1-109\n",
      "DIR-615\n",
      "HP-Print-73-LaserJet Pro MFP\n",
      "DIESIO\n",
      "MT1-109-5\n",
      "Belkin_G_Wireless_B7171D\n",
      "DIRECT-aiM2070 Series\n",
      "MT1-110\n",
      "pd208\n",
      "NIIC_BT-RESERV\n",
      "TP-LINK_711FC5\n",
      "Zyxel71497a\n",
      "ops\n",
      "TP-LINK_CE89_5G\n",
      "SAP-LAB\n",
      "TP-LINK_CE89\n",
      "MT1-102\n",
      "MT1-207\n",
      "TP-Link_E0DA\n",
      "MT1-102-5G\n",
      "WiFi-Repeater\n",
      "Zyxel71497a.speed\n",
      "MT1-103\n",
      "Ze620\n",
      "netis_2.4G_9D53E7\n",
      "MT1-113-5G\n",
      "AndroidAP14AB\n",
      "china\n",
      "enecon\n",
      "mgts for sbrf\n",
      "DIRECT-QnPhaser 3020\n",
      "DIRECT-XyPhaser 3020\n",
      "realme 7 pro\n",
      "ROOM_136.8\n",
      "HP-Print-F2-LaserJet Pro MFP\n",
      "HDC-E5100W-0hqIpJ\n",
      "my_wifi\n",
      "iPhone (Карим)\n",
      "e10-a1\n",
      "DIRECT-84-HP M28 LaserJet\n",
      "GUK-BIO\n",
      "!wifipress\n",
      "!wifipress_guest\n",
      "foodcort\n",
      "Fantastic_four\n",
      "SovesT\n",
      "AndroidAP85D9\n",
      "HP03A114\n",
      "CHECHIHA-MT7-2\n",
      "vzm\n",
      "HP-Print-25-Color LaserJet MFP\n",
      "DIRECT-8f-HP M252 LaserJet\n",
      "bmstu_5\n",
      "Redmi Note 9 Pro\n",
      "SELF-1\n",
      "TP-LINK_7601\n",
      "TP-LINK_7601_5G\n",
      "k265\n",
      "Keenetic-6655\n",
      "MT7-216\n",
      "Hololab_guest\n",
      "Hololab\n",
      "Daniel\n",
      "realme 6\n",
      "=_=\n",
      "SRB\n",
      "LaserBoy\n",
      "k265_5G\n",
      "Android\n",
      "FAN: 0028004B56565102\n",
      "setkaW\n",
      "MT7-216_5G\n",
      "HP-Print-50-LaserJet Pro MFP\n",
      "a762\n",
      "Keenetic-7571\n",
      "LaserLab\n",
      "Machine26\n",
      "Chear\n",
      "CNCwlan\n",
      "Keenetic-4046\n",
      "OnePlus 8 Pro\n",
      "Arestov\n",
      "Redmi Note 8T\n",
      "WS\n"
     ]
    }
   ],
   "source": [
    "cat_mac = data_new_2[['ssid']]\n",
    "cats_mac = cat_mac['ssid'].unique()\n",
    "for ssid in cats_mac:\n",
    "    print(ssid)"
   ]
  },
  {
   "cell_type": "code",
   "execution_count": 54,
   "metadata": {},
   "outputs": [
    {
     "data": {
      "image/png": "[encoded data removed]",
      "text/plain": [
       "<Figure size 432x288 with 1 Axes>"
      ]
     },
     "metadata": {
      "needs_background": "light"
     },
     "output_type": "display_data"
    },
    {
     "data": {
      "image/png": "[encoded data removed]",
      "text/plain": [
       "<Figure size 432x288 with 1 Axes>"
      ]
     },
     "metadata": {
      "needs_background": "light"
     },
     "output_type": "display_data"
    },
    {
     "data": {
      "image/png": "[encoded data removed]",
      "text/plain": [
       "<Figure size 432x288 with 1 Axes>"
      ]
     },
     "metadata": {
      "needs_background": "light"
     },
     "output_type": "display_data"
    }
   ],
   "source": [
    "data_for_hist = []\n",
    "#data_new_2['mac', 'strength']\n",
    "#data_for_hist.append(data_new_2.columns[2])\n",
    "data_for_hist.append(data_new_2.columns[3])\n",
    "data_for_hist.append(data_new_2.columns[5])\n",
    "data_for_hist.append(data_new_2.columns[6])\n",
    "for col in data_for_hist:\n",
    "    plt.hist(data[col], 55)\n",
    "    plt.xlabel(col)\n",
    "    plt.show()"
   ]
  },
  {
   "cell_type": "code",
   "execution_count": null,
   "metadata": {},
   "outputs": [],
   "source": []
  }
 ],
 "metadata": {
  "kernelspec": {
   "display_name": "Python 3",
   "language": "python",
   "name": "python3"
  },
  "language_info": {
   "codemirror_mode": {
    "name": "ipython",
    "version": 3
   },
   "file_extension": ".py",
   "mimetype": "text/x-python",
   "name": "python",
   "nbconvert_exporter": "python",
   "pygments_lexer": "ipython3",
   "version": "3.7.5"
  }
 },
 "nbformat": 4,
 "nbformat_minor": 4
}
