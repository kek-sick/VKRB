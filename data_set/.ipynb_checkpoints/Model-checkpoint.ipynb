{
 "cells": [
  {
   "cell_type": "code",
   "execution_count": 1,
   "metadata": {},
   "outputs": [],
   "source": [
    "import numpy as np\n",
    "import pandas as pd\n",
    "#import seaborn as sns\n",
    "import matplotlib.pyplot as plt\n",
    "%matplotlib inline "
   ]
  },
  {
   "cell_type": "code",
   "execution_count": 36,
   "metadata": {},
   "outputs": [],
   "source": [
    "test_data = pd.read_csv('test_data.csv')\n",
    "reference_ssid_empty = pd.read_csv('reliable_data_mst_powerful_per_mac_with_empty.csv')\n",
    "reference_ssid_no_empty = pd.read_csv('reliable_data_mst_powerful_per_mac_no_empty.csv')"
   ]
  },
  {
   "cell_type": "code",
   "execution_count": 37,
   "metadata": {},
   "outputs": [
    {
     "data": {
      "text/plain": [
       "'Mon Apr 05 15:08:29 GMT+03:00 2021'"
      ]
     },
     "execution_count": 37,
     "metadata": {},
     "output_type": "execute_result"
    }
   ],
   "source": [
    "mesures_list = test_data[['datetime']].to_numpy().T[0]\n",
    "mesures_list = pd.unique(mesures_list)\n",
    "mesures_list[92]"
   ]
  },
  {
   "cell_type": "code",
   "execution_count": 67,
   "metadata": {},
   "outputs": [
    {
     "data": {
      "text/plain": [
       "(2692    58:ac:78:77:8e:80\n",
       " Name: mac, dtype: object,\n",
       " 2692    11.0\n",
       " Name: zone, dtype: float64,\n",
       " 2692    0.0\n",
       " Name: floor, dtype: float64,\n",
       "      Unnamed: 0                mac  zone  floor  strength           ssid\n",
       " 304       576.0  58:ac:78:77:8e:80  11.0    2.0     -63.0  bmstu_student)"
      ]
     },
     "execution_count": 67,
     "metadata": {},
     "output_type": "execute_result"
    }
   ],
   "source": [
    "sample = test_data.where(test_data['floor'] == 0).dropna().head(1)\n",
    "#print(sample)\n",
    "def single_test(sample, reference_table = reference_ssid_empty, data_set = test_data, output_type='lite'):\n",
    "    my_mac_list = sample[['mac']].to_numpy().T[0]\n",
    "    result = pd.DataFrame([],columns=reference_table.columns)\n",
    "    for mac in my_mac_list:\n",
    "        if(not reference_table.where(reference_table['mac'] == mac).dropna().empty):\n",
    "            result = reference_table.where(reference_table['mac'] == mac)\n",
    "            break\n",
    "    if (output_type == 'lite'):\n",
    "        sample = sample.head(1).to_numpy()[0]\n",
    "        if(result.empty):\n",
    "            result = [0,0,-1,-1]\n",
    "        else:\n",
    "            result = result.dropna().head(1).to_numpy()[0]\n",
    "        return sample[6], sample[7], result[2], result[3]\n",
    "    else:\n",
    "        return sample['mac'], sample['zone'].head(1), sample['floor'].head(1), result.dropna()\n",
    "single_test(sample, output_type='lit')"
   ]
  },
  {
   "cell_type": "code",
   "execution_count": 29,
   "metadata": {},
   "outputs": [
    {
     "data": {
      "text/plain": [
       "False"
      ]
     },
     "execution_count": 29,
     "metadata": {},
     "output_type": "execute_result"
    }
   ],
   "source": [
    "reference_ssid_empty.where(reference_ssid_empty['mac'] == sample[['mac']].to_numpy().T[0][1]).dropna().empty"
   ]
  },
  {
   "cell_type": "code",
   "execution_count": 5,
   "metadata": {},
   "outputs": [
    {
     "data": {
      "text/plain": [
       "Unnamed: 0    2729\n",
       "n             2729\n",
       "id            2729\n",
       "mac            594\n",
       "strength        53\n",
       "ssid           311\n",
       "zone            16\n",
       "floor            6\n",
       "datetime       152\n",
       "dtype: int64"
      ]
     },
     "execution_count": 5,
     "metadata": {},
     "output_type": "execute_result"
    }
   ],
   "source": [
    "test_data.nunique()"
   ]
  },
  {
   "cell_type": "code",
   "execution_count": 54,
   "metadata": {},
   "outputs": [
    {
     "data": {
      "text/html": [
       "<div>\n",
       "<style scoped>\n",
       "    .dataframe tbody tr th:only-of-type {\n",
       "        vertical-align: middle;\n",
       "    }\n",
       "\n",
       "    .dataframe tbody tr th {\n",
       "        vertical-align: top;\n",
       "    }\n",
       "\n",
       "    .dataframe thead th {\n",
       "        text-align: right;\n",
       "    }\n",
       "</style>\n",
       "<table border=\"1\" class=\"dataframe\">\n",
       "  <thead>\n",
       "    <tr style=\"text-align: right;\">\n",
       "      <th></th>\n",
       "      <th>Unnamed: 0</th>\n",
       "      <th>n</th>\n",
       "      <th>id</th>\n",
       "      <th>mac</th>\n",
       "      <th>strength</th>\n",
       "      <th>ssid</th>\n",
       "      <th>zone</th>\n",
       "      <th>floor</th>\n",
       "      <th>datetime</th>\n",
       "    </tr>\n",
       "  </thead>\n",
       "  <tbody>\n",
       "    <tr>\n",
       "      <th>0</th>\n",
       "      <td>494.0</td>\n",
       "      <td>495.0</td>\n",
       "      <td>537.0</td>\n",
       "      <td>00:26:52:d8:7e:e1</td>\n",
       "      <td>-69.0</td>\n",
       "      <td>bmstu_staff</td>\n",
       "      <td>11.0</td>\n",
       "      <td>5.0</td>\n",
       "      <td>Mon Apr 05 14:37:01 GMT+03:00 2021</td>\n",
       "    </tr>\n",
       "    <tr>\n",
       "      <th>1</th>\n",
       "      <td>495.0</td>\n",
       "      <td>496.0</td>\n",
       "      <td>538.0</td>\n",
       "      <td>d4:ca:6d:0c:2f:ba</td>\n",
       "      <td>-71.0</td>\n",
       "      <td>nii_isu_dep1</td>\n",
       "      <td>11.0</td>\n",
       "      <td>5.0</td>\n",
       "      <td>Mon Apr 05 14:37:01 GMT+03:00 2021</td>\n",
       "    </tr>\n",
       "    <tr>\n",
       "      <th>2</th>\n",
       "      <td>496.0</td>\n",
       "      <td>497.0</td>\n",
       "      <td>539.0</td>\n",
       "      <td>20:cf:30:ce:5d:43</td>\n",
       "      <td>-77.0</td>\n",
       "      <td>IU1-603</td>\n",
       "      <td>11.0</td>\n",
       "      <td>5.0</td>\n",
       "      <td>Mon Apr 05 14:37:01 GMT+03:00 2021</td>\n",
       "    </tr>\n",
       "    <tr>\n",
       "      <th>3</th>\n",
       "      <td>497.0</td>\n",
       "      <td>498.0</td>\n",
       "      <td>540.0</td>\n",
       "      <td>e4:8d:8c:52:83:15</td>\n",
       "      <td>-78.0</td>\n",
       "      <td>shtucer</td>\n",
       "      <td>11.0</td>\n",
       "      <td>5.0</td>\n",
       "      <td>Mon Apr 05 14:37:01 GMT+03:00 2021</td>\n",
       "    </tr>\n",
       "    <tr>\n",
       "      <th>4</th>\n",
       "      <td>498.0</td>\n",
       "      <td>499.0</td>\n",
       "      <td>541.0</td>\n",
       "      <td>06:d6:aa:29:ed:a6</td>\n",
       "      <td>-79.0</td>\n",
       "      <td>AndroidAP</td>\n",
       "      <td>11.0</td>\n",
       "      <td>5.0</td>\n",
       "      <td>Mon Apr 05 14:37:01 GMT+03:00 2021</td>\n",
       "    </tr>\n",
       "    <tr>\n",
       "      <th>5</th>\n",
       "      <td>499.0</td>\n",
       "      <td>500.0</td>\n",
       "      <td>542.0</td>\n",
       "      <td>38:2c:4a:a2:e3:e0</td>\n",
       "      <td>-80.0</td>\n",
       "      <td>Kafedra SM10</td>\n",
       "      <td>11.0</td>\n",
       "      <td>5.0</td>\n",
       "      <td>Mon Apr 05 14:37:01 GMT+03:00 2021</td>\n",
       "    </tr>\n",
       "    <tr>\n",
       "      <th>6</th>\n",
       "      <td>500.0</td>\n",
       "      <td>501.0</td>\n",
       "      <td>543.0</td>\n",
       "      <td>00:26:52:d8:7e:e9</td>\n",
       "      <td>-83.0</td>\n",
       "      <td>bmstu_guest</td>\n",
       "      <td>11.0</td>\n",
       "      <td>5.0</td>\n",
       "      <td>Mon Apr 05 14:37:01 GMT+03:00 2021</td>\n",
       "    </tr>\n",
       "    <tr>\n",
       "      <th>7</th>\n",
       "      <td>501.0</td>\n",
       "      <td>502.0</td>\n",
       "      <td>544.0</td>\n",
       "      <td>00:26:52:d8:7e:e0</td>\n",
       "      <td>-84.0</td>\n",
       "      <td>bmstu_lb</td>\n",
       "      <td>11.0</td>\n",
       "      <td>5.0</td>\n",
       "      <td>Mon Apr 05 14:37:01 GMT+03:00 2021</td>\n",
       "    </tr>\n",
       "    <tr>\n",
       "      <th>8</th>\n",
       "      <td>502.0</td>\n",
       "      <td>503.0</td>\n",
       "      <td>545.0</td>\n",
       "      <td>50:17:ff:df:58:61</td>\n",
       "      <td>-85.0</td>\n",
       "      <td>bmstu_staff</td>\n",
       "      <td>11.0</td>\n",
       "      <td>5.0</td>\n",
       "      <td>Mon Apr 05 14:37:01 GMT+03:00 2021</td>\n",
       "    </tr>\n",
       "    <tr>\n",
       "      <th>9</th>\n",
       "      <td>503.0</td>\n",
       "      <td>504.0</td>\n",
       "      <td>546.0</td>\n",
       "      <td>00:26:52:d8:74:91</td>\n",
       "      <td>-87.0</td>\n",
       "      <td>bmstu_staff</td>\n",
       "      <td>11.0</td>\n",
       "      <td>5.0</td>\n",
       "      <td>Mon Apr 05 14:37:01 GMT+03:00 2021</td>\n",
       "    </tr>\n",
       "    <tr>\n",
       "      <th>10</th>\n",
       "      <td>504.0</td>\n",
       "      <td>505.0</td>\n",
       "      <td>547.0</td>\n",
       "      <td>00:26:52:d8:74:99</td>\n",
       "      <td>-87.0</td>\n",
       "      <td>bmstu_guest</td>\n",
       "      <td>11.0</td>\n",
       "      <td>5.0</td>\n",
       "      <td>Mon Apr 05 14:37:01 GMT+03:00 2021</td>\n",
       "    </tr>\n",
       "    <tr>\n",
       "      <th>11</th>\n",
       "      <td>505.0</td>\n",
       "      <td>506.0</td>\n",
       "      <td>548.0</td>\n",
       "      <td>00:26:52:d8:74:90</td>\n",
       "      <td>-88.0</td>\n",
       "      <td>bmstu_lb</td>\n",
       "      <td>11.0</td>\n",
       "      <td>5.0</td>\n",
       "      <td>Mon Apr 05 14:37:01 GMT+03:00 2021</td>\n",
       "    </tr>\n",
       "    <tr>\n",
       "      <th>12</th>\n",
       "      <td>506.0</td>\n",
       "      <td>507.0</td>\n",
       "      <td>549.0</td>\n",
       "      <td>38:2c:4a:a2:e3:e1</td>\n",
       "      <td>-88.0</td>\n",
       "      <td>Kafedra SM10 5</td>\n",
       "      <td>11.0</td>\n",
       "      <td>5.0</td>\n",
       "      <td>Mon Apr 05 14:37:01 GMT+03:00 2021</td>\n",
       "    </tr>\n",
       "    <tr>\n",
       "      <th>13</th>\n",
       "      <td>507.0</td>\n",
       "      <td>508.0</td>\n",
       "      <td>550.0</td>\n",
       "      <td>5c:e8:83:71:cd:cb</td>\n",
       "      <td>-90.0</td>\n",
       "      <td>hw_manage_cdc0</td>\n",
       "      <td>11.0</td>\n",
       "      <td>5.0</td>\n",
       "      <td>Mon Apr 05 14:37:01 GMT+03:00 2021</td>\n",
       "    </tr>\n",
       "  </tbody>\n",
       "</table>\n",
       "</div>"
      ],
      "text/plain": [
       "    Unnamed: 0      n     id                mac  strength            ssid  \\\n",
       "0        494.0  495.0  537.0  00:26:52:d8:7e:e1     -69.0     bmstu_staff   \n",
       "1        495.0  496.0  538.0  d4:ca:6d:0c:2f:ba     -71.0    nii_isu_dep1   \n",
       "2        496.0  497.0  539.0  20:cf:30:ce:5d:43     -77.0         IU1-603   \n",
       "3        497.0  498.0  540.0  e4:8d:8c:52:83:15     -78.0         shtucer   \n",
       "4        498.0  499.0  541.0  06:d6:aa:29:ed:a6     -79.0       AndroidAP   \n",
       "5        499.0  500.0  542.0  38:2c:4a:a2:e3:e0     -80.0    Kafedra SM10   \n",
       "6        500.0  501.0  543.0  00:26:52:d8:7e:e9     -83.0     bmstu_guest   \n",
       "7        501.0  502.0  544.0  00:26:52:d8:7e:e0     -84.0        bmstu_lb   \n",
       "8        502.0  503.0  545.0  50:17:ff:df:58:61     -85.0     bmstu_staff   \n",
       "9        503.0  504.0  546.0  00:26:52:d8:74:91     -87.0     bmstu_staff   \n",
       "10       504.0  505.0  547.0  00:26:52:d8:74:99     -87.0     bmstu_guest   \n",
       "11       505.0  506.0  548.0  00:26:52:d8:74:90     -88.0        bmstu_lb   \n",
       "12       506.0  507.0  549.0  38:2c:4a:a2:e3:e1     -88.0  Kafedra SM10 5   \n",
       "13       507.0  508.0  550.0  5c:e8:83:71:cd:cb     -90.0  hw_manage_cdc0   \n",
       "\n",
       "    zone  floor                            datetime  \n",
       "0   11.0    5.0  Mon Apr 05 14:37:01 GMT+03:00 2021  \n",
       "1   11.0    5.0  Mon Apr 05 14:37:01 GMT+03:00 2021  \n",
       "2   11.0    5.0  Mon Apr 05 14:37:01 GMT+03:00 2021  \n",
       "3   11.0    5.0  Mon Apr 05 14:37:01 GMT+03:00 2021  \n",
       "4   11.0    5.0  Mon Apr 05 14:37:01 GMT+03:00 2021  \n",
       "5   11.0    5.0  Mon Apr 05 14:37:01 GMT+03:00 2021  \n",
       "6   11.0    5.0  Mon Apr 05 14:37:01 GMT+03:00 2021  \n",
       "7   11.0    5.0  Mon Apr 05 14:37:01 GMT+03:00 2021  \n",
       "8   11.0    5.0  Mon Apr 05 14:37:01 GMT+03:00 2021  \n",
       "9   11.0    5.0  Mon Apr 05 14:37:01 GMT+03:00 2021  \n",
       "10  11.0    5.0  Mon Apr 05 14:37:01 GMT+03:00 2021  \n",
       "11  11.0    5.0  Mon Apr 05 14:37:01 GMT+03:00 2021  \n",
       "12  11.0    5.0  Mon Apr 05 14:37:01 GMT+03:00 2021  \n",
       "13  11.0    5.0  Mon Apr 05 14:37:01 GMT+03:00 2021  "
      ]
     },
     "execution_count": 54,
     "metadata": {},
     "output_type": "execute_result"
    }
   ],
   "source": [
    "test_data.where(test_data['datetime'] == mesures_list[0]).dropna()"
   ]
  },
  {
   "cell_type": "code",
   "execution_count": 11,
   "metadata": {},
   "outputs": [
    {
     "data": {
      "text/html": [
       "<div>\n",
       "<style scoped>\n",
       "    .dataframe tbody tr th:only-of-type {\n",
       "        vertical-align: middle;\n",
       "    }\n",
       "\n",
       "    .dataframe tbody tr th {\n",
       "        vertical-align: top;\n",
       "    }\n",
       "\n",
       "    .dataframe thead th {\n",
       "        text-align: right;\n",
       "    }\n",
       "</style>\n",
       "<table border=\"1\" class=\"dataframe\">\n",
       "  <thead>\n",
       "    <tr style=\"text-align: right;\">\n",
       "      <th></th>\n",
       "      <th>Unnamed: 0</th>\n",
       "      <th>n</th>\n",
       "      <th>id</th>\n",
       "      <th>mac</th>\n",
       "      <th>strength</th>\n",
       "      <th>ssid</th>\n",
       "      <th>zone</th>\n",
       "      <th>floor</th>\n",
       "      <th>datetime</th>\n",
       "    </tr>\n",
       "  </thead>\n",
       "  <tbody>\n",
       "    <tr>\n",
       "      <th>0</th>\n",
       "      <td>494.0</td>\n",
       "      <td>495.0</td>\n",
       "      <td>537.0</td>\n",
       "      <td>00:26:52:d8:7e:e1</td>\n",
       "      <td>-69.0</td>\n",
       "      <td>bmstu_staff</td>\n",
       "      <td>11.0</td>\n",
       "      <td>5.0</td>\n",
       "      <td>Mon Apr 05 14:37:01 GMT+03:00 2021</td>\n",
       "    </tr>\n",
       "    <tr>\n",
       "      <th>21</th>\n",
       "      <td>515.0</td>\n",
       "      <td>516.0</td>\n",
       "      <td>558.0</td>\n",
       "      <td>00:26:52:d8:7e:e1</td>\n",
       "      <td>-78.0</td>\n",
       "      <td>bmstu_staff</td>\n",
       "      <td>11.0</td>\n",
       "      <td>5.0</td>\n",
       "      <td>Mon Apr 05 14:37:14 GMT+03:00 2021</td>\n",
       "    </tr>\n",
       "    <tr>\n",
       "      <th>42</th>\n",
       "      <td>537.0</td>\n",
       "      <td>538.0</td>\n",
       "      <td>580.0</td>\n",
       "      <td>00:26:52:d8:7e:e1</td>\n",
       "      <td>-77.0</td>\n",
       "      <td>bmstu_staff</td>\n",
       "      <td>11.0</td>\n",
       "      <td>5.0</td>\n",
       "      <td>Mon Apr 05 14:37:35 GMT+03:00 2021</td>\n",
       "    </tr>\n",
       "  </tbody>\n",
       "</table>\n",
       "</div>"
      ],
      "text/plain": [
       "    Unnamed: 0      n     id                mac  strength         ssid  zone  \\\n",
       "0        494.0  495.0  537.0  00:26:52:d8:7e:e1     -69.0  bmstu_staff  11.0   \n",
       "21       515.0  516.0  558.0  00:26:52:d8:7e:e1     -78.0  bmstu_staff  11.0   \n",
       "42       537.0  538.0  580.0  00:26:52:d8:7e:e1     -77.0  bmstu_staff  11.0   \n",
       "\n",
       "    floor                            datetime  \n",
       "0     5.0  Mon Apr 05 14:37:01 GMT+03:00 2021  \n",
       "21    5.0  Mon Apr 05 14:37:14 GMT+03:00 2021  \n",
       "42    5.0  Mon Apr 05 14:37:35 GMT+03:00 2021  "
      ]
     },
     "execution_count": 11,
     "metadata": {},
     "output_type": "execute_result"
    }
   ],
   "source": [
    "test_data.where(test_data['mac'] == '00:26:52:d8:7e:e1').dropna()"
   ]
  },
  {
   "cell_type": "code",
   "execution_count": 27,
   "metadata": {},
   "outputs": [
    {
     "data": {
      "text/plain": [
       "(2496, 9)"
      ]
     },
     "execution_count": 27,
     "metadata": {},
     "output_type": "execute_result"
    }
   ],
   "source": [
    "test_data = test_data.where(test_data['zone'] > 1).mask(test_data['zone'] == 7).mask(test_data['zone'] == 8).dropna()\n",
    "test_data.shape"
   ]
  },
  {
   "cell_type": "code",
   "execution_count": 70,
   "metadata": {
    "scrolled": false
   },
   "outputs": [
    {
     "name": "stdout",
     "output_type": "stream",
     "text": [
      "total 152 zones recognised 114 75.0 floores_recognised 117 76.97368421052632\n",
      "zones_tested [ 2  4  7 10  8  6 12 11  1 10 18 22  6 10 16  9]\n",
      "zones_unguessed [0 0 3 6 2 3 5 4 1 4 1 2 2 1 2 2]\n",
      "floores_tested [ 4  4 64 37 28 15  0  0  0  0  0]\n",
      "floores_unguessed [ 4  4  7 10  6  4  0  0  0  0  0]\n"
     ]
    },
    {
     "data": {
      "image/png": "[encoded data removed]",
      "text/plain": [
       "<Figure size 432x288 with 1 Axes>"
      ]
     },
     "metadata": {
      "needs_background": "light"
     },
     "output_type": "display_data"
    },
    {
     "data": {
      "image/png": "[encoded data removed]",
      "text/plain": [
       "<Figure size 432x288 with 1 Axes>"
      ]
     },
     "metadata": {
      "needs_background": "light"
     },
     "output_type": "display_data"
    },
    {
     "data": {
      "image/png": "[encoded data removed]",
      "text/plain": [
       "<Figure size 432x288 with 1 Axes>"
      ]
     },
     "metadata": {
      "needs_background": "light"
     },
     "output_type": "display_data"
    },
    {
     "data": {
      "image/png": "[encoded data removed]",
      "text/plain": [
       "<Figure size 432x288 with 1 Axes>"
      ]
     },
     "metadata": {
      "needs_background": "light"
     },
     "output_type": "display_data"
    }
   ],
   "source": [
    "#check full test data\n",
    "i = 0 #total samples checked\n",
    "fl_correct = 0 # total floores recognised correcty\n",
    "z_correct = 0  # total zones recognised correcty\n",
    "zones_tested = np.zeros((16,), dtype=int)\n",
    "zones_unguessed = np.zeros((16,), dtype=int)\n",
    "floores_tested = np.zeros((11,), dtype=int)\n",
    "floores_unguessed = np.zeros((11,), dtype=int)\n",
    "\n",
    "for mesure in mesures_list:\n",
    "    i = i+1\n",
    "    ftd_sample = test_data.where(test_data['datetime'] == mesure).dropna()\n",
    "    test_result = np.int_(single_test(ftd_sample, reference_table=reference_ssid_no_empty))\n",
    "    #print(i, test_result)\n",
    "    zones_tested[test_result[0]]=zones_tested[test_result[0]]+1\n",
    "    floores_tested[test_result[1]]=floores_tested[test_result[1]]+1\n",
    "    if(test_result[0]==test_result[2]):\n",
    "        z_correct = z_correct+1\n",
    "    else:\n",
    "        zones_unguessed[test_result[0]]=zones_unguessed[test_result[0]]+1\n",
    "    \n",
    "    if(test_result[1]==test_result[3]):\n",
    "        fl_correct = fl_correct+1\n",
    "    else:\n",
    "        floores_unguessed[test_result[1]]=floores_unguessed[test_result[1]]+1\n",
    "print('total', i, 'zones recognised', z_correct,  z_correct/i*100, 'floores_recognised', fl_correct, fl_correct/i*100)\n",
    "print('zones_tested',zones_tested)\n",
    "print('zones_unguessed',zones_unguessed)\n",
    "print('floores_tested',floores_tested)\n",
    "print('floores_unguessed',floores_unguessed)\n",
    "data_for_hist = []\n",
    "#data_new_2['mac', 'strength']\n",
    "#data_for_hist.append(data_new_2.columns[3])\n",
    "data_for_hist.append(zones_tested)\n",
    "data_for_hist.append(zones_unguessed)\n",
    "data_for_hist.append(floores_tested)\n",
    "data_for_hist.append(floores_unguessed)\n",
    "for col in data_for_hist:\n",
    "    plt.hist(col, 16)\n",
    "    #plt.xlabel(col)\n",
    "    plt.show()"
   ]
  },
  {
   "cell_type": "code",
   "execution_count": 61,
   "metadata": {},
   "outputs": [],
   "source": []
  },
  {
   "cell_type": "code",
   "execution_count": null,
   "metadata": {},
   "outputs": [],
   "source": [
    "def single_test2(sample, reference_table = reference_ssid_empty, data_set = test_data, output_type='lite'):\n",
    "    my_mac_list = sample[['mac']].to_numpy().T[0]\n",
    "    result = pd.DataFrame([],columns=reference_table.columns)\n",
    "    for mac in my_mac_list:\n",
    "        if(not reference_table.where(reference_table['mac'] == mac).dropna().empty):\n",
    "            result = reference_table.where(reference_table['mac'] == mac)\n",
    "            break\n",
    "    if (output_type == 'lite'):\n",
    "        sample = sample.head(1).to_numpy()[0]\n",
    "        if(result.empty):\n",
    "            result = [0,0,-1,-1]\n",
    "        else:\n",
    "            result = result.dropna().head(1).to_numpy()[0]\n",
    "        return sample[6], sample[7], result[2], result[3]\n",
    "    else:\n",
    "        return sample['mac'], sample['zone'].head(1), sample['floor'].head(1), result.dropna()\n",
    "single_test(sample, output_type='lite')"
   ]
  }
 ],
 "metadata": {
  "kernelspec": {
   "display_name": "Python 3",
   "language": "python",
   "name": "python3"
  },
  "language_info": {
   "codemirror_mode": {
    "name": "ipython",
    "version": 3
   },
   "file_extension": ".py",
   "mimetype": "text/x-python",
   "name": "python",
   "nbconvert_exporter": "python",
   "pygments_lexer": "ipython3",
   "version": "3.7.5"
  }
 },
 "nbformat": 4,
 "nbformat_minor": 4
}
